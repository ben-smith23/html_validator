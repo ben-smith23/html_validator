{
  "nbformat": 4,
  "nbformat_minor": 0,
  "metadata": {
    "colab": {
      "provenance": [],
      "authorship_tag": "ABX9TyMZh3NgaaZuqy5pGcfSzm+4",
      "include_colab_link": true
    },
    "kernelspec": {
      "name": "python3",
      "display_name": "Python 3"
    },
    "language_info": {
      "name": "python"
    }
  },
  "cells": [
    {
      "cell_type": "markdown",
      "metadata": {
        "id": "view-in-github",
        "colab_type": "text"
      },
      "source": [
        "<a href=\"https://colab.research.google.com/github/ben-smith23/html_validator/blob/master/ShrePYas.ipynb\" target=\"_parent\"><img src=\"https://colab.research.google.com/assets/colab-badge.svg\" alt=\"Open In Colab\"/></a>"
      ]
    },
    {
      "cell_type": "markdown",
      "source": [
        "**Resources:**\n",
        "\n",
        "[Automate the Boring Stuff with Python](https://automatetheboringstuff.com/)\n",
        "\n",
        "[Python Tutor](https://pythontutor.com/)\n",
        "\n",
        "[ChatGPT](https://chatgpt.com/)\n",
        "\n",
        "[CSCI040: Intro to Hacking](https://github.com/mikeizbicki/cmc-csci040)\n",
        "\n",
        "[Python Cheat Sheet](https://www.pythoncheatsheet.org/)\n",
        "\n",
        "**Libraries:**\n",
        "\n",
        "[Matplotlib - Data Visualization](https://matplotlib.org/stable/)\n",
        "\n",
        "[Pandas - Data Manipulation](https://pandas.pydata.org/)\n",
        "\n",
        "[NumPy - Scientific Computing](https://numpy.org/)"
      ],
      "metadata": {
        "id": "LR57S27PxuvF"
      }
    },
    {
      "cell_type": "markdown",
      "source": [
        "**Operations**\n",
        "\n",
        "*   addition: +\n",
        "*   subtraction: -\n",
        "*   multiplication: *\n",
        "*   division: /\n",
        "*   exponent: **\n",
        "*   few other lesser used operations -> see Chapter 1 of Automate the Boring Stuff\n",
        "\n",
        "\n",
        "\n",
        "\n",
        "\n",
        "\n",
        "\n",
        "\n",
        "\n",
        "\n"
      ],
      "metadata": {
        "id": "0KptWJRq3bee"
      }
    },
    {
      "cell_type": "code",
      "source": [
        "2 + 3"
      ],
      "metadata": {
        "id": "ySSeYKQD2R29"
      },
      "execution_count": null,
      "outputs": []
    },
    {
      "cell_type": "code",
      "source": [
        "7 - 11"
      ],
      "metadata": {
        "id": "m35-tqDH4ZuL"
      },
      "execution_count": null,
      "outputs": []
    },
    {
      "cell_type": "code",
      "source": [
        "10 * 5"
      ],
      "metadata": {
        "id": "GqQpU9Q_4zL3"
      },
      "execution_count": null,
      "outputs": []
    },
    {
      "cell_type": "code",
      "source": [
        "12 / 4"
      ],
      "metadata": {
        "id": "JJdmUTdO4tC4"
      },
      "execution_count": null,
      "outputs": []
    },
    {
      "cell_type": "code",
      "source": [
        "3**3"
      ],
      "metadata": {
        "id": "1_SDKjWs42p1"
      },
      "execution_count": null,
      "outputs": []
    },
    {
      "cell_type": "code",
      "source": [
        "# @title Printing\n",
        "\n",
        "# <- Any line that begins with a hashtag is a comment. These are for human use to explain the purpose of code. They are ignored by the computer when running the code.\n",
        "\n",
        "# anything that has a word follwed by () is a function. Functions take in parameters between the parentheses.\n",
        "\n",
        "# First function to learn: print() -> NOTE: function names are case-sensitive\n",
        "\n",
        "# print() outputs whatever is passed in to the parentheses\n",
        "\n",
        "print(1000)\n",
        "\n",
        "print(\"Hello Shreyas\")\n",
        "\n",
        "print() # some functions do not require parameters. Here, print() will just create a blank line.\n",
        "\n",
        "print(\"Deans Court fucks\")\n",
        "\n",
        "print(7 + 11) # print() will also evaluate mathematical expressions"
      ],
      "metadata": {
        "id": "b-OxKiEg2rDz"
      },
      "execution_count": null,
      "outputs": []
    },
    {
      "cell_type": "markdown",
      "source": [
        "**Function List**\n",
        "\n",
        "\n",
        "\n",
        "*   print() -> displays input to screen\n",
        "\n"
      ],
      "metadata": {
        "id": "v5kziWlv8RZw"
      }
    },
    {
      "cell_type": "code",
      "source": [
        "# @title Errors\n",
        "\n",
        "print(shitfuck) # the specific error, NameError, is not important right now. But why do you think we got an error?"
      ],
      "metadata": {
        "id": "kETTjLg56Zjn"
      },
      "execution_count": null,
      "outputs": []
    },
    {
      "cell_type": "markdown",
      "source": [
        "**Data Types**\n",
        "\n",
        "Lots of different data types -> four that matter right now\n",
        "\n",
        "Data types are necessary for Python to understand how to interet inputs.\n",
        "\n",
        "\n",
        "\n",
        "*   strings: text (denoted by double or single quotaton marks)\n",
        "*   ints: numbers *without* decimals\n",
        "*   floats: numbers *with* decimals\n",
        "*   bools: True or False\n",
        "\n",
        "\n",
        "\n"
      ],
      "metadata": {
        "id": "YAqD0Y1_80Ml"
      }
    },
    {
      "cell_type": "code",
      "source": [
        "# @ title Basics - Data Types\n",
        "\n",
        "# the type() function reveals the data type\n",
        "\n",
        "print(type('shitfuck'))\n",
        "print(type(\"shitfuck\"))\n",
        "\n",
        "print(type(21))\n",
        "\n",
        "print(type(21.0))\n",
        "\n",
        "print(type(True))"
      ],
      "metadata": {
        "id": "3GGi3c7k7B6t"
      },
      "execution_count": null,
      "outputs": []
    },
    {
      "cell_type": "code",
      "source": [
        "# @ title Basics - Data Types (cont.)\n",
        "\n",
        "# You can convert data types using the appropriate functions\n",
        "\n",
        "print(type(21))\n",
        "print(type(str(21)))\n",
        "\n",
        "print()\n",
        "\n",
        "print(type(21))\n",
        "print(type(float(21)))\n",
        "\n",
        "print()\n",
        "\n",
        "print(type(12 / 3)) # division always outputs floats unless specified\n",
        "print(type(int(12 / 3)))"
      ],
      "metadata": {
        "id": "Jo229fd6-P4z"
      },
      "execution_count": null,
      "outputs": []
    },
    {
      "cell_type": "markdown",
      "source": [
        "**Function List**\n",
        "\n",
        "\n",
        "\n",
        "*   print(): displays input to screen\n",
        "*   type(): reveals data type\n",
        "*   str(): converts to string\n",
        "*   int(): converts to integer\n",
        "*   float(): converts to float"
      ],
      "metadata": {
        "id": "gctUXXKW8ir6"
      }
    },
    {
      "cell_type": "code",
      "source": [
        "# @title Variable Names\n",
        "\n",
        "# You can assign variable names with the equals sign\n",
        "\n",
        "x = 1989\n",
        "print(x)\n",
        "\n",
        "print()\n",
        "\n",
        "y = 'shitfucks'\n",
        "print(y)"
      ],
      "metadata": {
        "colab": {
          "base_uri": "https://localhost:8080/"
        },
        "id": "awsR4051_W8k",
        "outputId": "3ec3e437-0503-4c22-c787-07205d2456ac"
      },
      "execution_count": 40,
      "outputs": [
        {
          "output_type": "stream",
          "name": "stdout",
          "text": [
            "1989\n",
            "\n",
            "shitfucks\n"
          ]
        }
      ]
    },
    {
      "cell_type": "code",
      "source": [
        "z = 1900.0\n",
        "print(x - z) # if one variable in an expression is a float, the output will be a float"
      ],
      "metadata": {
        "colab": {
          "base_uri": "https://localhost:8080/"
        },
        "id": "YRcy-5JRCaTQ",
        "outputId": "94c75e2f-7287-4ee4-e655-8842de2d75eb"
      },
      "execution_count": 42,
      "outputs": [
        {
          "output_type": "stream",
          "name": "stdout",
          "text": [
            "89.0\n"
          ]
        }
      ]
    },
    {
      "cell_type": "code",
      "source": [
        "a = int(x - z)\n",
        "print(\"a equals\", a)"
      ],
      "metadata": {
        "colab": {
          "base_uri": "https://localhost:8080/"
        },
        "id": "2kJnnDY2CgXv",
        "outputId": "b1583156-63eb-4428-ecec-617cfbb2b487"
      },
      "execution_count": 43,
      "outputs": [
        {
          "output_type": "stream",
          "name": "stdout",
          "text": [
            "a equals 89\n"
          ]
        }
      ]
    },
    {
      "cell_type": "code",
      "source": [
        "print(f\"I have {a} shitfucks left to give.\") # this is called an f-string. By placing 'f' outside the parentheses, you can evaluate variables inside strings with {}.\n",
        "\n",
        "print()\n",
        "\n",
        "a = 'no'\n",
        "print(f\"I have {a} shitfucks left to give.\")"
      ],
      "metadata": {
        "colab": {
          "base_uri": "https://localhost:8080/"
        },
        "id": "yKdCqhHVCjSg",
        "outputId": "f25a54ee-d021-4ce2-dc9c-b7e932e5970d"
      },
      "execution_count": 45,
      "outputs": [
        {
          "output_type": "stream",
          "name": "stdout",
          "text": [
            "I have 89 shitfucks left to give.\n",
            "\n",
            "I have no shitfucks left to give.\n"
          ]
        }
      ]
    },
    {
      "cell_type": "code",
      "source": [
        "# @title input() function\n",
        "\n",
        "x = input()\n",
        "\n",
        "print(f\"I have {x} shitfucks left to give.\")"
      ],
      "metadata": {
        "colab": {
          "base_uri": "https://localhost:8080/"
        },
        "id": "NqWxWtu3DTtq",
        "outputId": "5aca7330-52b2-4d7a-df3a-fd27c2eb1b5e"
      },
      "execution_count": 47,
      "outputs": [
        {
          "output_type": "stream",
          "name": "stdout",
          "text": [
            "80\n",
            "I have 80 shitfucks left to give.\n"
          ]
        }
      ]
    },
    {
      "cell_type": "markdown",
      "source": [
        "**Flow Control**\n",
        "\n",
        "\n",
        "\n",
        "*   Equal to: ==\n",
        "*   Not equal to: !=\n",
        "*   Less than: <\n",
        "*   Greater than: >\n",
        "*   Less than or equal to: <=\n",
        "*   Greater than or equal to: >="
      ],
      "metadata": {
        "id": "bl7nS_Y5ECyR"
      }
    },
    {
      "cell_type": "code",
      "source": [
        "# @title Flow Control\n",
        "\n",
        "print(7 == 7)\n",
        "print(7 != 7)\n",
        "print(7 < 7)\n",
        "print(7 > 7)\n",
        "print(7 <= 7)\n",
        "print(7 >= 7)\n",
        "\n",
        "print(type(7 == 7))"
      ],
      "metadata": {
        "colab": {
          "base_uri": "https://localhost:8080/"
        },
        "id": "nIi6DDYZD6zw",
        "outputId": "5e99ad4a-43ee-4f6b-87ae-a27e80155030"
      },
      "execution_count": 51,
      "outputs": [
        {
          "output_type": "stream",
          "name": "stdout",
          "text": [
            "True\n",
            "False\n",
            "False\n",
            "False\n",
            "True\n",
            "True\n",
            "<class 'bool'>\n"
          ]
        }
      ]
    },
    {
      "cell_type": "code",
      "source": [
        "print(not True)\n",
        "print(True and False)\n",
        "print(True or False)\n",
        "print(False and False)\n",
        "print(True and not False)"
      ],
      "metadata": {
        "colab": {
          "base_uri": "https://localhost:8080/"
        },
        "id": "igEvG4D_FB0J",
        "outputId": "43aa3130-506a-4a64-bc70-23a5b4720320"
      },
      "execution_count": 56,
      "outputs": [
        {
          "output_type": "stream",
          "name": "stdout",
          "text": [
            "False\n",
            "False\n",
            "True\n",
            "False\n",
            "True\n"
          ]
        }
      ]
    },
    {
      "cell_type": "markdown",
      "source": [
        "**Function List**\n",
        "\n",
        "*   print(): displays input to screen\n",
        "*   type(): reveals data type\n",
        "*   str(): converts to string\n",
        "*   int(): converts to integer\n",
        "*   float(): converts to float\n",
        "*   input(): requests and takes an input\n",
        "*   len(): returns the number of characters in a string (among other things)\n",
        "\n",
        "Built-in Functions -> appended at the end of variable\n",
        "*   lower(): converts to string to lowercase\n",
        "*   upper(): converts to string to uppercase\n",
        "*   capitalize(): capitlizes the first letter"
      ],
      "metadata": {
        "id": "jEi2jmhaGqYF"
      }
    },
    {
      "cell_type": "code",
      "source": [
        "x = \"sHrEyAs\"\n",
        "print(x.lower())\n",
        "print(x.upper())\n",
        "print(x.capitalize())\n",
        "\n",
        "print()\n",
        "\n",
        "print(len(x))"
      ],
      "metadata": {
        "colab": {
          "base_uri": "https://localhost:8080/"
        },
        "id": "M5HSeYFQG8D1",
        "outputId": "8e342f91-ad40-4a43-f103-cb56ef3a6905"
      },
      "execution_count": 64,
      "outputs": [
        {
          "output_type": "stream",
          "name": "stdout",
          "text": [
            "shreyas\n",
            "SHREYAS\n",
            "Shreyas\n",
            "\n",
            "7\n"
          ]
        }
      ]
    },
    {
      "cell_type": "code",
      "source": [
        "# @title Conditions\n",
        "\n",
        "name = input().capitalize()\n",
        "\n",
        "if name == \"Shreyas\":\n",
        "    print(f\"Hello {name}!\")\n",
        "else:\n",
        "    print(f\"Get away from me, {name}!\")"
      ],
      "metadata": {
        "colab": {
          "base_uri": "https://localhost:8080/"
        },
        "id": "9ql5QQvyF7NF",
        "outputId": "5ac55825-22a8-4add-f7a8-eda058939944"
      },
      "execution_count": 62,
      "outputs": [
        {
          "output_type": "stream",
          "name": "stdout",
          "text": [
            "shreyas\n",
            "Hello Shreyas!\n"
          ]
        }
      ]
    },
    {
      "cell_type": "code",
      "source": [
        "name = input()\n",
        "\n",
        "if len(name) > 11:\n",
        "    print(\"Your name is long.\")\n",
        "elif len(name) > 7:\n",
        "    print(\"Your name is kinda long.\")\n",
        "elif len(name) > 3:\n",
        "    print(\"Your name is kinda short.\")\n",
        "else:\n",
        "    print(\"Your name is short.\")"
      ],
      "metadata": {
        "colab": {
          "base_uri": "https://localhost:8080/"
        },
        "id": "Qq7RGVNSJTVo",
        "outputId": "3fd82a7e-4737-462c-f978-1cc75bcbb20f"
      },
      "execution_count": 69,
      "outputs": [
        {
          "output_type": "stream",
          "name": "stdout",
          "text": [
            "ben\n",
            "Your name is short.\n"
          ]
        }
      ]
    },
    {
      "cell_type": "code",
      "source": [
        "name = input()\n",
        "\n",
        "if len(name) < 10:\n",
        "    print(\"Your name is less than 10 letters.\")\n",
        "if len(name) >= 3:\n",
        "    print(\"Your name is more than 3 letters.\")\n",
        "else:\n",
        "    print(\"Die.\")"
      ],
      "metadata": {
        "colab": {
          "base_uri": "https://localhost:8080/"
        },
        "id": "T-hpTRaULCO2",
        "outputId": "95de3713-4381-4a17-d56f-303181b69194"
      },
      "execution_count": 71,
      "outputs": [
        {
          "output_type": "stream",
          "name": "stdout",
          "text": [
            "ben\n",
            "Your name is less than 10 letters.\n",
            "Your name is more than 3 letters.\n"
          ]
        }
      ]
    },
    {
      "cell_type": "code",
      "source": [
        "name = input()\n",
        "\n",
        "if len(name) < 10:\n",
        "    print(\"Your name is less than 10 letters.\")\n",
        "elif len(name) >= 3:\n",
        "    print(\"Your name is more than 3 letters.\")\n",
        "else:\n",
        "    print(\"Die.\")"
      ],
      "metadata": {
        "colab": {
          "base_uri": "https://localhost:8080/"
        },
        "id": "bJWTgVFKLc3O",
        "outputId": "8aa9346e-7558-4ef5-af92-a162431927a6"
      },
      "execution_count": 72,
      "outputs": [
        {
          "output_type": "stream",
          "name": "stdout",
          "text": [
            "ben\n",
            "Your name is less than 10 letters.\n"
          ]
        }
      ]
    }
  ]
}